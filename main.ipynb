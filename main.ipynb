{
 "cells": [
  {
   "cell_type": "code",
   "execution_count": 15,
   "metadata": {},
   "outputs": [
    {
     "data": {
      "image/png": "[encoded data removed]",
      "text/plain": [
       "<Figure size 640x480 with 1 Axes>"
      ]
     },
     "metadata": {},
     "output_type": "display_data"
    },
    {
     "name": "stdout",
     "output_type": "stream",
     "text": [
      "torch.Size([2, 150])\n",
      "torch.Size([150])\n",
      "il y a au total : 30 mini tensors contenant chacun 5 echantillons\n"
     ]
    }
   ],
   "source": [
    "from GenerateData import GenerateData\n",
    "from torch.utils.data import DataLoader\n",
    "\n",
    "# get a homemade dataset\n",
    "train_ds = GenerateData()\n",
    "\n",
    "# utilisation du module DataLoader pour séparer le dataset en plusieurs morceaux (batch size)\n",
    "# en fait train_dl sépare le tensor en plusieur tensor de bs lignes. train_dl est donc une liste de tensor \n",
    "bs = 5\n",
    "train_dl = DataLoader(train_ds, batch_size=bs, shuffle=True) \n",
    "print(f'il y a au total : {len(train_dl)} mini tensors contenant chacun {bs} echantillons')\n",
    "\n",
    "\n"
   ]
  },
  {
   "attachments": {},
   "cell_type": "markdown",
   "metadata": {},
   "source": [
    "Now that we have the dataset we will construct the neural network\n",
    "\n",
    "###### 1) Declaration de la fonction de cout"
   ]
  },
  {
   "cell_type": "code",
   "execution_count": 16,
   "metadata": {},
   "outputs": [],
   "source": [
    "import torch.nn.functional as F              # all the functions defined by torch\n",
    "\n",
    "loss_fun = F.cross_entropy"
   ]
  },
  {
   "attachments": {},
   "cell_type": "markdown",
   "metadata": {},
   "source": [
    "###### 2) construction du reseau de neurones"
   ]
  },
  {
   "cell_type": "code",
   "execution_count": 17,
   "metadata": {},
   "outputs": [
    {
     "name": "stdout",
     "output_type": "stream",
     "text": [
      "torch.float32\n"
     ]
    },
    {
     "data": {
      "text/plain": [
       "<bound method Module.parameters of reseau_neurones_1couche(\n",
       "  (couche1): Linear(in_features=2, out_features=3, bias=True)\n",
       ")>"
      ]
     },
     "execution_count": 17,
     "metadata": {},
     "output_type": "execute_result"
    }
   ],
   "source": [
    "from torch import nn\n",
    "import torch\n",
    "\n",
    "class reseau_neurones_1couche(nn.Module):           # création de la classe \"reseau_neurones\" fille de la classe nn.Module\n",
    "    def __init__(self):\n",
    "        super().__init__()                          # appel du constructeur de la classe parent \n",
    "        self.couche1 = nn.Linear(2,3)               # 3 neurones avec des entrées 2D\n",
    "        print(self.couche1.weight.dtype)\n",
    "    \n",
    "    ## taches réalisées lorsque la fonction \"reseau_neurones\" est appelée \n",
    "    def forward(self, xb):\n",
    "        xb = xb.to(torch.float32)                   # Pytorch exige que les données d'entrées soient du même type que les éléments de la matrice weight\n",
    "        return self.couche1(xb)                     # sortie après passage des données au travers de la couche \"couche1\"\n",
    "\n",
    "\n",
    "model = reseau_neurones_1couche()                   # instanciation d'un objet reseau de neurones\n",
    "model.parameters\n"
   ]
  },
  {
   "cell_type": "code",
   "execution_count": 18,
   "metadata": {},
   "outputs": [
    {
     "ename": "IndexError",
     "evalue": "Target 3 is out of bounds.",
     "output_type": "error",
     "traceback": [
      "\u001b[0;31m---------------------------------------------------------------------------\u001b[0m",
      "\u001b[0;31mIndexError\u001b[0m                                Traceback (most recent call last)",
      "Cell \u001b[0;32mIn [18], line 23\u001b[0m\n\u001b[1;32m     20\u001b[0m yb \u001b[39m=\u001b[39m yb\u001b[39m.\u001b[39mflatten()\n\u001b[1;32m     21\u001b[0m yb \u001b[39m=\u001b[39m yb\u001b[39m.\u001b[39mtype(torch\u001b[39m.\u001b[39mLongTensor)\n\u001b[0;32m---> 23\u001b[0m J \u001b[39m=\u001b[39m loss_fun(y_pred, yb)\n\u001b[1;32m     25\u001b[0m \u001b[39mwith\u001b[39;00m torch\u001b[39m.\u001b[39mno_grad():                \u001b[39m# disable the gradient computation tracking \u001b[39;00m\n\u001b[1;32m     26\u001b[0m     cost[i] \u001b[39m=\u001b[39m J\n",
      "File \u001b[0;32m~/anaconda3/envs/env_virtuel_ML/lib/python3.10/site-packages/torch/nn/functional.py:3026\u001b[0m, in \u001b[0;36mcross_entropy\u001b[0;34m(input, target, weight, size_average, ignore_index, reduce, reduction, label_smoothing)\u001b[0m\n\u001b[1;32m   3024\u001b[0m \u001b[39mif\u001b[39;00m size_average \u001b[39mis\u001b[39;00m \u001b[39mnot\u001b[39;00m \u001b[39mNone\u001b[39;00m \u001b[39mor\u001b[39;00m reduce \u001b[39mis\u001b[39;00m \u001b[39mnot\u001b[39;00m \u001b[39mNone\u001b[39;00m:\n\u001b[1;32m   3025\u001b[0m     reduction \u001b[39m=\u001b[39m _Reduction\u001b[39m.\u001b[39mlegacy_get_string(size_average, reduce)\n\u001b[0;32m-> 3026\u001b[0m \u001b[39mreturn\u001b[39;00m torch\u001b[39m.\u001b[39;49m_C\u001b[39m.\u001b[39;49m_nn\u001b[39m.\u001b[39;49mcross_entropy_loss(\u001b[39minput\u001b[39;49m, target, weight, _Reduction\u001b[39m.\u001b[39;49mget_enum(reduction), ignore_index, label_smoothing)\n",
      "\u001b[0;31mIndexError\u001b[0m: Target 3 is out of bounds."
     ]
    }
   ],
   "source": [
    "from torch import optim \n",
    "import numpy as np\n",
    "\n",
    "alpha = 1e-4\n",
    "optimizer = torch.optim.SGD(model.parameters(),lr = alpha)\n",
    "\n",
    "nb_it = 100\n",
    "cost = np.empty(nb_it)\n",
    "\n",
    "for i in range(nb_it):                             # pour chaque iteration\n",
    "\n",
    "    for xb,yb in train_dl:                         # pour tous les échantillons\n",
    "\n",
    "        # forward step\n",
    "        y_pred = model(xb)\n",
    "\n",
    "        #print (y_pred, yb)\n",
    "\n",
    "        # loss computation\n",
    "        yb = yb.flatten()\n",
    "        yb = yb.type(torch.LongTensor)\n",
    "\n",
    "        J = loss_fun(y_pred, yb)\n",
    "\n",
    "        with torch.no_grad():                # disable the gradient computation tracking \n",
    "            cost[i] = J\n",
    "\n",
    "        # compute the gradient\n",
    "        J.backward()\n",
    "        \n",
    "        # optimize the gradient\n",
    "        optimizer.step()\n",
    "\n",
    "        # cleaning the gradient \n",
    "        optimizer.zero_grad()                       # same as model.zero_grad()                  \n",
    "        \n",
    "        "
   ]
  }
 ],
 "metadata": {
  "kernelspec": {
   "display_name": "env_virtuel_ML",
   "language": "python",
   "name": "python3"
  },
  "language_info": {
   "codemirror_mode": {
    "name": "ipython",
    "version": 3
   },
   "file_extension": ".py",
   "mimetype": "text/x-python",
   "name": "python",
   "nbconvert_exporter": "python",
   "pygments_lexer": "ipython3",
   "version": "3.10.9"
  },
  "orig_nbformat": 4,
  "vscode": {
   "interpreter": {
    "hash": "44ad8ae5776e0c4d80bc48da86ead1be519ac4e984317b40d2c284a2bc5cc7ce"
   }
  }
 },
 "nbformat": 4,
 "nbformat_minor": 2
}
